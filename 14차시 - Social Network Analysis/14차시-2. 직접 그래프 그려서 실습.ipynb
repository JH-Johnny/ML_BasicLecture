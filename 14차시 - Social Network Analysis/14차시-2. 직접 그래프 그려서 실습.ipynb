{
 "cells": [
  {
   "cell_type": "code",
   "execution_count": 3,
   "id": "02590c3f",
   "metadata": {},
   "outputs": [],
   "source": [
    "import networkx as nx\n",
    "import matplotlib.pyplot as plt\n",
    "%matplotlib inline"
   ]
  },
  {
   "cell_type": "code",
   "execution_count": 4,
   "id": "e606926c",
   "metadata": {},
   "outputs": [
    {
     "data": {
      "text/plain": [
       "(-0.6552884432920261,\n",
       " 0.5491437141299867,\n",
       " -0.9520103403659252,\n",
       " 1.1854851454646353)"
      ]
     },
     "execution_count": 4,
     "metadata": {},
     "output_type": "execute_result"
    },
    {
     "data": {
      "image/png": "[encoded data removed]",
      "text/plain": [
       "<Figure size 640x480 with 1 Axes>"
      ]
     },
     "metadata": {},
     "output_type": "display_data"
    }
   ],
   "source": [
    "# Graph 선어\n",
    "G = nx.Graph()\n",
    "\n",
    "# Graph 에 값 입력하기\n",
    "G.add_weighted_edges_from([('a', 'b', 10), ('b', 'c', 1), ('a', 'c', 100), ('a', 'd', 10)])\n",
    "\n",
    "nx.draw_networkx(G)\n",
    "# 노드 이름 출력\n",
    "plt.axis('on')"
   ]
  },
  {
   "cell_type": "code",
   "execution_count": 6,
   "id": "60cdcf84",
   "metadata": {},
   "outputs": [
    {
     "data": {
      "text/plain": [
       "{'a': 0.8333333333333333, 'b': 0.5, 'c': 0.5, 'd': 0.5}"
      ]
     },
     "execution_count": 6,
     "metadata": {},
     "output_type": "execute_result"
    }
   ],
   "source": [
    "# 그래프 중개중심성 노드별로 구하기 -> 높을 수록 중심에 위치하고 있는 노드라는 의미\n",
    "nx.betweenness_centrality(G, normalized=True, endpoints=True)"
   ]
  },
  {
   "cell_type": "code",
   "execution_count": 7,
   "id": "f573e31a",
   "metadata": {},
   "outputs": [
    {
     "data": {
      "text/plain": [
       "{'a': 1.0, 'b': 0.75, 'c': 0.75, 'd': 0.6}"
      ]
     },
     "execution_count": 7,
     "metadata": {},
     "output_type": "execute_result"
    }
   ],
   "source": [
    "# 그래프의 근접중심성 노드별로 구하기 -> 높을 수록 브로커 역할을 많이 하는 노드라는 의미\n",
    "nx.closeness_centrality(G)"
   ]
  },
  {
   "cell_type": "code",
   "execution_count": 8,
   "id": "ce7f6512",
   "metadata": {},
   "outputs": [
    {
     "data": {
      "text/plain": [
       "{'a': 0.6116286437343044,\n",
       " 'b': 0.5227204550943347,\n",
       " 'c': 0.5227204550943347,\n",
       " 'd': 0.28184579793865727}"
      ]
     },
     "execution_count": 8,
     "metadata": {},
     "output_type": "execute_result"
    }
   ],
   "source": [
    "# 그래프의 아이겐벡터 중심성 노드별로 구하기 -> 높을 수록 네트워크에서 노드들에게 영향력이 큰 노드라는 의미\n",
    "nx.eigenvector_centrality(G)"
   ]
  },
  {
   "cell_type": "code",
   "execution_count": 9,
   "id": "118bf88d",
   "metadata": {},
   "outputs": [
    {
     "data": {
      "text/plain": [
       "DegreeView({'a': 3, 'b': 2, 'c': 2, 'd': 1})"
      ]
     },
     "execution_count": 9,
     "metadata": {},
     "output_type": "execute_result"
    }
   ],
   "source": [
    "# 그래프의 degree를 노드별로 구하기\n",
    "nx.degree(G)"
   ]
  },
  {
   "cell_type": "code",
   "execution_count": 11,
   "id": "881fc480",
   "metadata": {},
   "outputs": [
    {
     "data": {
      "text/plain": [
       "{'a', 'b', 'c', 'd'}"
      ]
     },
     "execution_count": 11,
     "metadata": {},
     "output_type": "execute_result"
    }
   ],
   "source": [
    "# 크기가 가장 큰 Component 구하기\n",
    "components = nx.connected_components(G)\n",
    "largest_component = max(components, key=len)\n",
    "largest_component"
   ]
  },
  {
   "cell_type": "code",
   "execution_count": null,
   "id": "8d0784d2",
   "metadata": {},
   "outputs": [],
   "source": [
    "# 여기서는 컴포넌트가 하나밖에 없으므로 크게 의미가 없었다."
   ]
  }
 ],
 "metadata": {
  "kernelspec": {
   "display_name": "Python 3 (ipykernel)",
   "language": "python",
   "name": "python3"
  },
  "language_info": {
   "codemirror_mode": {
    "name": "ipython",
    "version": 3
   },
   "file_extension": ".py",
   "mimetype": "text/x-python",
   "name": "python",
   "nbconvert_exporter": "python",
   "pygments_lexer": "ipython3",
   "version": "3.9.13"
  }
 },
 "nbformat": 4,
 "nbformat_minor": 5
}
